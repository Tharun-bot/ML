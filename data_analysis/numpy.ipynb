{
 "cells": [
  {
   "cell_type": "code",
   "execution_count": 1,
   "metadata": {},
   "outputs": [],
   "source": [
    "import numpy as np"
   ]
  },
  {
   "cell_type": "code",
   "execution_count": 7,
   "metadata": {},
   "outputs": [
    {
     "name": "stdout",
     "output_type": "stream",
     "text": [
      "The array : [1 2 3 4 5]\n",
      "shape of the array : (5,)\n",
      "Type of that array : <class 'numpy.ndarray'>\n",
      "Reshaping the array to 1,5 : [[1 2 3 4 5]]\n",
      "Reshaping the array to 5,1 : [[1]\n",
      " [2]\n",
      " [3]\n",
      " [4]\n",
      " [5]]\n"
     ]
    }
   ],
   "source": [
    "##creating arrays using numpy\n",
    "##creating a 1 d array\n",
    "arr_1 = np.array([1,2,3,4,5])\n",
    "print(f'The array : {arr_1}')\n",
    "print(f'shape of the array : {arr_1.shape}')\n",
    "print(f'Type of that array : {type(arr_1)}')\n",
    "print(f'Reshaping the array to 1,5 : {arr_1.reshape(1,5)}')\n",
    "print(f'Reshaping the array to 5,1 : {arr_1.reshape(5,1)}')"
   ]
  },
  {
   "cell_type": "code",
   "execution_count": 11,
   "metadata": {},
   "outputs": [
    {
     "name": "stdout",
     "output_type": "stream",
     "text": [
      "The array : [[1 2 3 4 5]\n",
      " [1 2 3 4 5]]\n",
      "shape of the array : (2, 5)\n",
      "Type of that array : <class 'numpy.ndarray'>\n"
     ]
    }
   ],
   "source": [
    "arr_2 = np.array([[1,2,3,4,5], [1,2,3,4,5]])\n",
    "print(f'The array : {arr_2}')\n",
    "print(f'shape of the array : {arr_2.shape}')\n",
    "print(f'Type of that array : {type(arr_2)}')\n"
   ]
  },
  {
   "cell_type": "code",
   "execution_count": 14,
   "metadata": {},
   "outputs": [
    {
     "data": {
      "text/plain": [
       "array([[0],\n",
       "       [2],\n",
       "       [4],\n",
       "       [6],\n",
       "       [8]])"
      ]
     },
     "execution_count": 14,
     "metadata": {},
     "output_type": "execute_result"
    }
   ],
   "source": [
    "#Linearly seperable arrays\n",
    "arr_3 = np.arange(0, 10, 2).reshape(5,1)\n",
    "arr_3"
   ]
  },
  {
   "cell_type": "code",
   "execution_count": 18,
   "metadata": {},
   "outputs": [
    {
     "data": {
      "text/plain": [
       "array([[1., 1., 1., 1.],\n",
       "       [1., 1., 1., 1.],\n",
       "       [1., 1., 1., 1.]])"
      ]
     },
     "execution_count": 18,
     "metadata": {},
     "output_type": "execute_result"
    }
   ],
   "source": [
    "ones_arr = np.ones((3,4))\n",
    "ones_arr"
   ]
  },
  {
   "cell_type": "code",
   "execution_count": 23,
   "metadata": {},
   "outputs": [
    {
     "data": {
      "text/plain": [
       "array([[1., 0., 0.],\n",
       "       [0., 1., 0.],\n",
       "       [0., 0., 1.]])"
      ]
     },
     "execution_count": 23,
     "metadata": {},
     "output_type": "execute_result"
    }
   ],
   "source": [
    "identity_arr = np.eye(3,3)\n",
    "identity_arr"
   ]
  },
  {
   "cell_type": "code",
   "execution_count": 26,
   "metadata": {},
   "outputs": [
    {
     "name": "stdout",
     "output_type": "stream",
     "text": [
      "Addition : [ 6  8 10 12 14]\n",
      "Subtraction : [-4 -4 -4 -4 -4]\n"
     ]
    }
   ],
   "source": [
    "## Numpy vectorized operations\n",
    "\n",
    "arr_4 = np.array([1,2,3,4,5])\n",
    "arr_5 = np.array([5,6,7,8,9])\n",
    "\n",
    "## Element wise addition  these are performed elemt wise\n",
    "print(f'Addition : {arr_4+arr_5}')\n",
    "print(f'Subtraction : {arr_4-arr_5}')"
   ]
  },
  {
   "cell_type": "code",
   "execution_count": 27,
   "metadata": {},
   "outputs": [
    {
     "name": "stdout",
     "output_type": "stream",
     "text": [
      "SQRT : [1.41421356 1.73205081 2.         2.23606798 2.44948974]\n",
      "Exponential : [  7.3890561   20.08553692  54.59815003 148.4131591  403.42879349]\n",
      "log : [0.69314718 1.09861229 1.38629436 1.60943791 1.79175947]\n"
     ]
    }
   ],
   "source": [
    "## Universal Functions\n",
    "arr = np.array([2,3,4,5,6])\n",
    "print(f\"SQRT : {np.sqrt(arr)}\")\n",
    "print(f'Exponential : {np.exp(arr)}')\n",
    "print(f'log : {np.log(arr)}')"
   ]
  },
  {
   "cell_type": "code",
   "execution_count": 31,
   "metadata": {},
   "outputs": [
    {
     "data": {
      "text/plain": [
       "array([[0, 1, 2],\n",
       "       [3, 4, 5],\n",
       "       [6, 7, 8]])"
      ]
     },
     "execution_count": 31,
     "metadata": {},
     "output_type": "execute_result"
    }
   ],
   "source": [
    "## Array slicing and indexing\n",
    "\n",
    "arr1 = np.arange(0,9,1).reshape(3,3)\n",
    "arr1"
   ]
  },
  {
   "cell_type": "code",
   "execution_count": 32,
   "metadata": {},
   "outputs": [
    {
     "name": "stdout",
     "output_type": "stream",
     "text": [
      "Normalized Data : [-1.41421356 -0.70710678  0.          0.70710678  1.41421356]\n"
     ]
    }
   ],
   "source": [
    "#Statistical Concepts -- Normalization\n",
    "## to have a mean and std\n",
    "\n",
    "data = np.arange(0,5,1)\n",
    "\n",
    "#calculate mean and STD\n",
    "mean = np.mean(data)\n",
    "std_dev = np.std(data)\n",
    "\n",
    "#NOrmalized the data\n",
    "normalizing_data = (data-mean)/std_dev\n",
    "print(f'Normalized Data : {normalizing_data}')"
   ]
  },
  {
   "cell_type": "code",
   "execution_count": 38,
   "metadata": {},
   "outputs": [
    {
     "data": {
      "text/plain": [
       "array([6, 7])"
      ]
     },
     "execution_count": 38,
     "metadata": {},
     "output_type": "execute_result"
    }
   ],
   "source": [
    "## Logical operations\n",
    "data = np.arange(1,11)\n",
    "data[(data>5) & (data<8)]  #use logical and for these problems"
   ]
  },
  {
   "cell_type": "code",
   "execution_count": null,
   "metadata": {},
   "outputs": [],
   "source": []
  }
 ],
 "metadata": {
  "kernelspec": {
   "display_name": "ML",
   "language": "python",
   "name": "python3"
  },
  "language_info": {
   "codemirror_mode": {
    "name": "ipython",
    "version": 3
   },
   "file_extension": ".py",
   "mimetype": "text/x-python",
   "name": "python",
   "nbconvert_exporter": "python",
   "pygments_lexer": "ipython3",
   "version": "3.13.1"
  }
 },
 "nbformat": 4,
 "nbformat_minor": 2
}
